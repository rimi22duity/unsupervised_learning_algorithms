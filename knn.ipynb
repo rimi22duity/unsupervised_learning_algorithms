{
  "nbformat": 4,
  "nbformat_minor": 0,
  "metadata": {
    "colab": {
      "name": "knn.ipynb",
      "provenance": [],
      "authorship_tag": "ABX9TyPFf9sacBd7p74rwmK0DZYl",
      "include_colab_link": true
    },
    "kernelspec": {
      "name": "python3",
      "display_name": "Python 3"
    },
    "language_info": {
      "name": "python"
    }
  },
  "cells": [
    {
      "cell_type": "markdown",
      "metadata": {
        "id": "view-in-github",
        "colab_type": "text"
      },
      "source": [
        "<a href=\"https://colab.research.google.com/github/rimi22duity/unsupervised_learning_algorithms/blob/main/knn.ipynb\" target=\"_parent\"><img src=\"https://colab.research.google.com/assets/colab-badge.svg\" alt=\"Open In Colab\"/></a>"
      ]
    },
    {
      "cell_type": "code",
      "metadata": {
        "id": "FIly0AJOtIyb"
      },
      "source": [
        "from sklearn.datasets import load_iris\n",
        "from sklearn.model_selection import train_test_split\n",
        "from sklearn.neighbors import KNeighborsClassifier\n",
        "from sklearn import metrics\n",
        "import matplotlib.pyplot as plt"
      ],
      "execution_count": 2,
      "outputs": []
    },
    {
      "cell_type": "code",
      "metadata": {
        "id": "8vzW-wXcvVsx"
      },
      "source": [
        "iris = load_iris()\n",
        "x = iris.data\n",
        "y = iris.target\n",
        "\n",
        "x_train, x_test, y_train, y_test = train_test_split(x, y, test_size=0.33, random_state=24)\n"
      ],
      "execution_count": 3,
      "outputs": []
    },
    {
      "cell_type": "code",
      "metadata": {
        "colab": {
          "base_uri": "https://localhost:8080/"
        },
        "id": "bIwNWPqgv4py",
        "outputId": "f0095586-34e5-4e52-b01d-7e75a62fbd20"
      },
      "source": [
        "x_train"
      ],
      "execution_count": 4,
      "outputs": [
        {
          "output_type": "execute_result",
          "data": {
            "text/plain": [
              "array([[4.7, 3.2, 1.3, 0.2],\n",
              "       [4.3, 3. , 1.1, 0.1],\n",
              "       [5.4, 3.9, 1.3, 0.4],\n",
              "       [5.5, 2.6, 4.4, 1.2],\n",
              "       [6.1, 2.6, 5.6, 1.4],\n",
              "       [6.8, 2.8, 4.8, 1.4],\n",
              "       [7.2, 3.2, 6. , 1.8],\n",
              "       [5.7, 2.6, 3.5, 1. ],\n",
              "       [7.1, 3. , 5.9, 2.1],\n",
              "       [5.6, 2.7, 4.2, 1.3],\n",
              "       [5.9, 3. , 4.2, 1.5],\n",
              "       [7. , 3.2, 4.7, 1.4],\n",
              "       [5. , 3.5, 1.6, 0.6],\n",
              "       [6.5, 3. , 5.5, 1.8],\n",
              "       [6.9, 3.1, 4.9, 1.5],\n",
              "       [4.4, 3. , 1.3, 0.2],\n",
              "       [5.7, 2.9, 4.2, 1.3],\n",
              "       [7.7, 3.8, 6.7, 2.2],\n",
              "       [5.5, 2.4, 3.8, 1.1],\n",
              "       [5.1, 2.5, 3. , 1.1],\n",
              "       [6.4, 2.8, 5.6, 2.2],\n",
              "       [6. , 2.2, 4. , 1. ],\n",
              "       [5.1, 3.8, 1.9, 0.4],\n",
              "       [4.8, 3.4, 1.9, 0.2],\n",
              "       [5.2, 4.1, 1.5, 0.1],\n",
              "       [6.7, 3.3, 5.7, 2.1],\n",
              "       [6.5, 3.2, 5.1, 2. ],\n",
              "       [5.7, 2.8, 4.1, 1.3],\n",
              "       [6.1, 3. , 4.6, 1.4],\n",
              "       [5.6, 2.8, 4.9, 2. ],\n",
              "       [5.8, 2.7, 5.1, 1.9],\n",
              "       [5.1, 3.3, 1.7, 0.5],\n",
              "       [6.1, 3. , 4.9, 1.8],\n",
              "       [5. , 2.3, 3.3, 1. ],\n",
              "       [4.4, 2.9, 1.4, 0.2],\n",
              "       [6.1, 2.8, 4. , 1.3],\n",
              "       [5.8, 2.7, 4.1, 1. ],\n",
              "       [6.1, 2.9, 4.7, 1.4],\n",
              "       [6.2, 2.2, 4.5, 1.5],\n",
              "       [5.1, 3.4, 1.5, 0.2],\n",
              "       [6. , 3.4, 4.5, 1.6],\n",
              "       [6.6, 3. , 4.4, 1.4],\n",
              "       [4.9, 3.1, 1.5, 0.2],\n",
              "       [6.7, 3.1, 4.7, 1.5],\n",
              "       [4.9, 2.5, 4.5, 1.7],\n",
              "       [6.5, 2.8, 4.6, 1.5],\n",
              "       [5.5, 3.5, 1.3, 0.2],\n",
              "       [5.6, 3. , 4.5, 1.5],\n",
              "       [5.1, 3.7, 1.5, 0.4],\n",
              "       [6. , 3. , 4.8, 1.8],\n",
              "       [5.1, 3.5, 1.4, 0.2],\n",
              "       [4.4, 3.2, 1.3, 0.2],\n",
              "       [6. , 2.7, 5.1, 1.6],\n",
              "       [7.4, 2.8, 6.1, 1.9],\n",
              "       [5.4, 3.9, 1.7, 0.4],\n",
              "       [5. , 3.4, 1.5, 0.2],\n",
              "       [4.8, 3. , 1.4, 0.3],\n",
              "       [6.3, 3.3, 4.7, 1.6],\n",
              "       [4.5, 2.3, 1.3, 0.3],\n",
              "       [5.4, 3.7, 1.5, 0.2],\n",
              "       [7.7, 2.8, 6.7, 2. ],\n",
              "       [5.8, 2.7, 5.1, 1.9],\n",
              "       [4.6, 3.1, 1.5, 0.2],\n",
              "       [5.9, 3. , 5.1, 1.8],\n",
              "       [6.2, 2.8, 4.8, 1.8],\n",
              "       [5.2, 3.5, 1.5, 0.2],\n",
              "       [5.6, 2.9, 3.6, 1.3],\n",
              "       [5. , 3.2, 1.2, 0.2],\n",
              "       [6.4, 2.9, 4.3, 1.3],\n",
              "       [5.5, 2.5, 4. , 1.3],\n",
              "       [4.6, 3.2, 1.4, 0.2],\n",
              "       [7.7, 2.6, 6.9, 2.3],\n",
              "       [6.7, 3.1, 4.4, 1.4],\n",
              "       [5.1, 3.8, 1.6, 0.2],\n",
              "       [4.6, 3.4, 1.4, 0.3],\n",
              "       [5.5, 2.4, 3.7, 1. ],\n",
              "       [6.2, 2.9, 4.3, 1.3],\n",
              "       [5.9, 3.2, 4.8, 1.8],\n",
              "       [5.7, 2.8, 4.5, 1.3],\n",
              "       [5. , 2. , 3.5, 1. ],\n",
              "       [6.3, 2.5, 5. , 1.9],\n",
              "       [5.5, 4.2, 1.4, 0.2],\n",
              "       [4.8, 3. , 1.4, 0.1],\n",
              "       [6.4, 2.8, 5.6, 2.1],\n",
              "       [5.2, 3.4, 1.4, 0.2],\n",
              "       [6. , 2.2, 5. , 1.5],\n",
              "       [5.7, 3.8, 1.7, 0.3],\n",
              "       [6.1, 2.8, 4.7, 1.2],\n",
              "       [6.4, 3.2, 5.3, 2.3],\n",
              "       [6.8, 3.2, 5.9, 2.3],\n",
              "       [6.9, 3.1, 5.4, 2.1],\n",
              "       [5.8, 2.7, 3.9, 1.2],\n",
              "       [5. , 3.6, 1.4, 0.2],\n",
              "       [6.3, 2.7, 4.9, 1.8],\n",
              "       [6.3, 3.3, 6. , 2.5],\n",
              "       [7.2, 3. , 5.8, 1.6],\n",
              "       [6.5, 3. , 5.2, 2. ],\n",
              "       [6.7, 3. , 5.2, 2.3],\n",
              "       [6.3, 2.3, 4.4, 1.3],\n",
              "       [7.9, 3.8, 6.4, 2. ]])"
            ]
          },
          "metadata": {},
          "execution_count": 4
        }
      ]
    },
    {
      "cell_type": "code",
      "metadata": {
        "colab": {
          "base_uri": "https://localhost:8080/"
        },
        "id": "3UpjiDwdv9JR",
        "outputId": "9b30bf35-6ee7-4475-e9eb-18edb763131a"
      },
      "source": [
        "y_train"
      ],
      "execution_count": 5,
      "outputs": [
        {
          "output_type": "execute_result",
          "data": {
            "text/plain": [
              "array([0, 0, 0, 1, 2, 1, 2, 1, 2, 1, 1, 1, 0, 2, 1, 0, 1, 2, 1, 1, 2, 1,\n",
              "       0, 0, 0, 2, 2, 1, 1, 2, 2, 0, 2, 1, 0, 1, 1, 1, 1, 0, 1, 1, 0, 1,\n",
              "       2, 1, 0, 1, 0, 2, 0, 0, 1, 2, 0, 0, 0, 1, 0, 0, 2, 2, 0, 2, 2, 0,\n",
              "       1, 0, 1, 1, 0, 2, 1, 0, 0, 1, 1, 1, 1, 1, 2, 0, 0, 2, 0, 2, 0, 1,\n",
              "       2, 2, 2, 1, 0, 2, 2, 2, 2, 2, 1, 2])"
            ]
          },
          "metadata": {},
          "execution_count": 5
        }
      ]
    },
    {
      "cell_type": "code",
      "metadata": {
        "colab": {
          "base_uri": "https://localhost:8080/"
        },
        "id": "gJ9IvE6pv_dB",
        "outputId": "65b642cb-862c-412c-c680-3b2ccd2736e7"
      },
      "source": [
        "x_test"
      ],
      "execution_count": 6,
      "outputs": [
        {
          "output_type": "execute_result",
          "data": {
            "text/plain": [
              "array([[7.3, 2.9, 6.3, 1.8],\n",
              "       [5.8, 2.8, 5.1, 2.4],\n",
              "       [4.9, 2.4, 3.3, 1. ],\n",
              "       [5.2, 2.7, 3.9, 1.4],\n",
              "       [7.6, 3. , 6.6, 2.1],\n",
              "       [4.8, 3.4, 1.6, 0.2],\n",
              "       [5.3, 3.7, 1.5, 0.2],\n",
              "       [6.3, 2.5, 4.9, 1.5],\n",
              "       [4.7, 3.2, 1.6, 0.2],\n",
              "       [6.2, 3.4, 5.4, 2.3],\n",
              "       [4.8, 3.1, 1.6, 0.2],\n",
              "       [5.1, 3.8, 1.5, 0.3],\n",
              "       [5. , 3.4, 1.6, 0.4],\n",
              "       [6.4, 2.7, 5.3, 1.9],\n",
              "       [6.7, 3.3, 5.7, 2.5],\n",
              "       [5.8, 4. , 1.2, 0.2],\n",
              "       [6.3, 2.9, 5.6, 1.8],\n",
              "       [5.4, 3.4, 1.5, 0.4],\n",
              "       [6.5, 3. , 5.8, 2.2],\n",
              "       [6.9, 3.2, 5.7, 2.3],\n",
              "       [6.8, 3. , 5.5, 2.1],\n",
              "       [6.7, 3.1, 5.6, 2.4],\n",
              "       [7.7, 3. , 6.1, 2.3],\n",
              "       [6.4, 3.2, 4.5, 1.5],\n",
              "       [6.3, 3.4, 5.6, 2.4],\n",
              "       [4.9, 3. , 1.4, 0.2],\n",
              "       [6.7, 2.5, 5.8, 1.8],\n",
              "       [6.4, 3.1, 5.5, 1.8],\n",
              "       [5. , 3.3, 1.4, 0.2],\n",
              "       [7.2, 3.6, 6.1, 2.5],\n",
              "       [6. , 2.9, 4.5, 1.5],\n",
              "       [5.1, 3.5, 1.4, 0.3],\n",
              "       [6.7, 3. , 5. , 1.7],\n",
              "       [5.8, 2.6, 4. , 1.2],\n",
              "       [6.3, 2.8, 5.1, 1.5],\n",
              "       [5.7, 2.5, 5. , 2. ],\n",
              "       [4.9, 3.1, 1.5, 0.1],\n",
              "       [5.4, 3. , 4.5, 1.5],\n",
              "       [5.5, 2.3, 4. , 1.3],\n",
              "       [6.6, 2.9, 4.6, 1.3],\n",
              "       [5.7, 3. , 4.2, 1.2],\n",
              "       [4.6, 3.6, 1. , 0.2],\n",
              "       [5.7, 4.4, 1.5, 0.4],\n",
              "       [5.4, 3.4, 1.7, 0.2],\n",
              "       [5.6, 2.5, 3.9, 1.1],\n",
              "       [6.9, 3.1, 5.1, 2.3],\n",
              "       [5.6, 3. , 4.1, 1.3],\n",
              "       [4.9, 3.6, 1.4, 0.1],\n",
              "       [5. , 3.5, 1.3, 0.3],\n",
              "       [5. , 3. , 1.6, 0.2]])"
            ]
          },
          "metadata": {},
          "execution_count": 6
        }
      ]
    },
    {
      "cell_type": "code",
      "metadata": {
        "colab": {
          "base_uri": "https://localhost:8080/"
        },
        "id": "SNCKPGtVwBjR",
        "outputId": "71f7c08b-62b0-4bf9-b99b-66e8d480285d"
      },
      "source": [
        "y_test"
      ],
      "execution_count": 7,
      "outputs": [
        {
          "output_type": "execute_result",
          "data": {
            "text/plain": [
              "array([2, 2, 1, 1, 2, 0, 0, 1, 0, 2, 0, 0, 0, 2, 2, 0, 2, 0, 2, 2, 2, 2,\n",
              "       2, 1, 2, 0, 2, 2, 0, 2, 1, 0, 1, 1, 2, 2, 0, 1, 1, 1, 1, 0, 0, 0,\n",
              "       1, 2, 1, 0, 0, 0])"
            ]
          },
          "metadata": {},
          "execution_count": 7
        }
      ]
    },
    {
      "cell_type": "code",
      "metadata": {
        "colab": {
          "base_uri": "https://localhost:8080/",
          "height": 279
        },
        "id": "0TDcmYHNwDPR",
        "outputId": "a9da70c3-fbfb-48dd-e9e7-cc59cd691bf9"
      },
      "source": [
        "scores = {}\n",
        "scores_list = []\n",
        "\n",
        "krange = range(1, 26)\n",
        "for i in krange:\n",
        "  knn = KNeighborsClassifier(n_neighbors=i)\n",
        "  knn.fit(x_train, y_train)\n",
        "  y_pred = knn.predict(x_test)\n",
        "  scores[i]=metrics.accuracy_score(y_test, y_pred)\n",
        "  scores_list.append(metrics.accuracy_score(y_test, y_pred))\n",
        "\n",
        "plt.plot(krange, scores_list)\n",
        "plt.xlabel('Values of K for KNN')\n",
        "plt.ylabel('Testing Accuracy')\n",
        "plt.show()"
      ],
      "execution_count": 8,
      "outputs": [
        {
          "output_type": "display_data",
          "data": {
            "image/png": "[encoded data removed]",
            "text/plain": [
              "<Figure size 432x288 with 1 Axes>"
            ]
          },
          "metadata": {
            "needs_background": "light"
          }
        }
      ]
    }
  ]
}