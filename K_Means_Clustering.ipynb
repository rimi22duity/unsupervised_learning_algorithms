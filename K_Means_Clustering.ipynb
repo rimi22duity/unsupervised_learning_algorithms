{
  "nbformat": 4,
  "nbformat_minor": 0,
  "metadata": {
    "colab": {
      "name": "K-Means Clustering.ipynb",
      "provenance": [],
      "authorship_tag": "ABX9TyP28seR9s4T5pZUBnswYUmr",
      "include_colab_link": true
    },
    "kernelspec": {
      "name": "python3",
      "display_name": "Python 3"
    },
    "language_info": {
      "name": "python"
    }
  },
  "cells": [
    {
      "cell_type": "markdown",
      "metadata": {
        "id": "view-in-github",
        "colab_type": "text"
      },
      "source": [
        "<a href=\"https://colab.research.google.com/github/rimi22duity/unsupervised_learning_algorithms/blob/main/K_Means_Clustering.ipynb\" target=\"_parent\"><img src=\"https://colab.research.google.com/assets/colab-badge.svg\" alt=\"Open In Colab\"/></a>"
      ]
    },
    {
      "cell_type": "code",
      "metadata": {
        "colab": {
          "base_uri": "https://localhost:8080/"
        },
        "id": "uFfSMPbnpNx_",
        "outputId": "7d981fd6-9df1-4dde-b8b7-c7f7d5c91f28"
      },
      "source": [
        "from matplotlib import pyplot as plt\n",
        "from sklearn.cluster import KMeans\n",
        "from sklearn.datasets.samples_generator import make_blobs"
      ],
      "execution_count": null,
      "outputs": [
        {
          "output_type": "stream",
          "name": "stderr",
          "text": [
            "/usr/local/lib/python3.7/dist-packages/sklearn/utils/deprecation.py:144: FutureWarning: The sklearn.datasets.samples_generator module is  deprecated in version 0.22 and will be removed in version 0.24. The corresponding classes / functions should instead be imported from sklearn.datasets. Anything that cannot be imported from sklearn.datasets is now part of the private API.\n",
            "  warnings.warn(message, FutureWarning)\n"
          ]
        }
      ]
    },
    {
      "cell_type": "code",
      "metadata": {
        "id": "bRFnMJBwpyzR"
      },
      "source": [
        "X, y = make_blobs(n_samples=300, cluster_std=1.00, random_state=12)"
      ],
      "execution_count": null,
      "outputs": []
    },
    {
      "cell_type": "code",
      "metadata": {
        "colab": {
          "base_uri": "https://localhost:8080/"
        },
        "id": "zygab-lHqTAA",
        "outputId": "52dbb08d-c9e1-4f36-d967-4914d854e68d"
      },
      "source": [
        "X"
      ],
      "execution_count": null,
      "outputs": [
        {
          "output_type": "execute_result",
          "data": {
            "text/plain": [
              "array([[-9.87992720e+00,  9.44899130e+00],\n",
              "       [-7.94627336e+00,  6.01079038e+00],\n",
              "       [-9.90165360e+00,  8.54973764e+00],\n",
              "       [-7.95444917e+00,  7.59731819e+00],\n",
              "       [-8.90654995e+00,  8.14521281e+00],\n",
              "       [-4.08812494e+00,  5.16526788e-01],\n",
              "       [-4.25818523e+00,  3.31383395e+00],\n",
              "       [-7.40077458e+00,  3.28790667e+00],\n",
              "       [-4.81119603e+00,  1.08521866e+00],\n",
              "       [-9.53623647e+00,  5.54004027e+00],\n",
              "       [-5.97316776e+00,  5.15863816e+00],\n",
              "       [-4.04259212e+00,  1.78602343e+00],\n",
              "       [-8.07110339e+00,  2.58766045e+00],\n",
              "       [-7.85710188e+00,  5.08460105e+00],\n",
              "       [-6.86622033e+00,  4.65765652e+00],\n",
              "       [-4.89263839e+00,  8.06653155e-01],\n",
              "       [-5.44550916e+00,  6.43745684e+00],\n",
              "       [-5.35525930e+00,  1.02139827e+00],\n",
              "       [-4.70119761e+00,  7.76059385e-01],\n",
              "       [-8.08300191e+00,  3.79143228e+00],\n",
              "       [-8.72423651e+00,  7.40012251e+00],\n",
              "       [-7.80020524e+00,  5.14668630e+00],\n",
              "       [-9.20118612e+00,  7.18827691e+00],\n",
              "       [-1.00858639e+01,  9.66233878e+00],\n",
              "       [-4.43282582e+00,  1.54254747e+00],\n",
              "       [-4.51796334e+00, -5.70487503e-02],\n",
              "       [-9.88930359e+00,  7.46053393e+00],\n",
              "       [-7.50867013e+00,  7.46553344e+00],\n",
              "       [-3.61715612e+00,  8.60943533e-01],\n",
              "       [-1.02621260e+01,  5.21992647e+00],\n",
              "       [-1.08183522e+01,  9.26169216e+00],\n",
              "       [-5.47486262e+00, -2.12863603e-01],\n",
              "       [-7.74961512e+00,  1.26875730e+00],\n",
              "       [-8.03678426e+00,  5.69008854e+00],\n",
              "       [-3.99602821e+00, -6.25363580e-01],\n",
              "       [-6.40922047e+00,  4.18262341e+00],\n",
              "       [-7.63071125e+00,  4.23910927e+00],\n",
              "       [-5.30984343e+00, -4.28932498e-01],\n",
              "       [-7.52043840e+00,  5.16838682e+00],\n",
              "       [-1.10574159e+01,  6.37275084e+00],\n",
              "       [-8.71357061e+00,  5.21170355e+00],\n",
              "       [-7.84922024e+00,  8.02996544e+00],\n",
              "       [-4.33499160e+00,  2.86823858e+00],\n",
              "       [-1.02748801e+01,  8.39821339e+00],\n",
              "       [-9.37603705e+00,  8.94309160e+00],\n",
              "       [-7.25433840e+00,  4.21572565e+00],\n",
              "       [-5.13492518e+00,  1.68414779e+00],\n",
              "       [-3.39620833e+00, -1.93020854e+00],\n",
              "       [-8.83659570e+00,  8.82743899e+00],\n",
              "       [-9.13527810e+00,  4.15356315e+00],\n",
              "       [-6.70176720e+00,  4.41663513e+00],\n",
              "       [-7.02201114e+00,  5.31301609e+00],\n",
              "       [-9.38231404e+00,  8.25286620e+00],\n",
              "       [-5.52512776e+00, -1.01833073e+00],\n",
              "       [-4.66188285e+00, -4.51166968e-01],\n",
              "       [-4.45842229e+00,  1.19999511e+00],\n",
              "       [-7.87575497e+00,  3.20569721e+00],\n",
              "       [-5.27007280e+00,  1.56515310e+00],\n",
              "       [-8.21142690e+00,  4.23477324e+00],\n",
              "       [-1.08339866e+01,  7.88250370e+00],\n",
              "       [-7.11607049e+00,  5.05876652e+00],\n",
              "       [-9.51894166e+00,  9.06842348e+00],\n",
              "       [-8.25380027e+00,  8.22771127e+00],\n",
              "       [-9.01106505e+00,  7.41035673e+00],\n",
              "       [-6.87908719e+00,  4.55479673e+00],\n",
              "       [-7.20856660e+00,  5.53514158e+00],\n",
              "       [-9.61864270e+00,  8.41845205e+00],\n",
              "       [-7.38309425e+00,  5.15721694e+00],\n",
              "       [-1.00752389e+01,  8.94093802e+00],\n",
              "       [-9.10155797e+00,  8.58004462e+00],\n",
              "       [-7.60562184e+00,  5.60362438e+00],\n",
              "       [-5.93643718e+00,  1.37093447e+00],\n",
              "       [-9.57721779e+00,  8.15011806e+00],\n",
              "       [-5.50901539e+00,  3.11329760e+00],\n",
              "       [-8.04921200e+00,  5.07528493e+00],\n",
              "       [-4.40230668e+00, -3.98026895e-01],\n",
              "       [-7.16754587e+00,  4.23585104e+00],\n",
              "       [-5.30341639e+00,  6.95690466e-01],\n",
              "       [-3.03373500e+00,  1.84368668e+00],\n",
              "       [-1.05902055e+01,  9.64541664e+00],\n",
              "       [-4.94000906e+00,  1.09636824e+00],\n",
              "       [-7.80456295e+00,  7.72256204e+00],\n",
              "       [-7.30706363e+00,  2.64686949e+00],\n",
              "       [-3.87505695e+00,  4.17491271e+00],\n",
              "       [-3.77373481e+00, -4.93012501e-01],\n",
              "       [-9.78055554e+00,  8.88419046e+00],\n",
              "       [-8.30365304e+00,  8.75344445e+00],\n",
              "       [-1.02775473e+01,  8.27376164e+00],\n",
              "       [-5.84000316e+00,  5.25868447e+00],\n",
              "       [-9.01702704e+00,  6.98448369e+00],\n",
              "       [-6.32083454e+00,  2.76513189e+00],\n",
              "       [-9.77915601e+00,  9.01699668e+00],\n",
              "       [-6.46585392e+00,  4.15958411e+00],\n",
              "       [-5.49883106e+00,  1.37767512e-01],\n",
              "       [-6.04477503e+00,  3.35463449e+00],\n",
              "       [-8.80118322e+00,  7.47798907e+00],\n",
              "       [-5.06778959e+00,  1.50221209e+00],\n",
              "       [-1.08911014e+01,  7.79448092e+00],\n",
              "       [-9.72942445e+00,  7.19108160e+00],\n",
              "       [-6.15131302e+00,  4.77247905e+00],\n",
              "       [-6.54194392e+00,  9.75889571e+00],\n",
              "       [-6.60223621e+00,  2.31298947e+00],\n",
              "       [-8.59849966e+00,  3.01289968e+00],\n",
              "       [-6.14368662e+00, -2.65176604e-01],\n",
              "       [-7.31462289e+00,  3.54177041e+00],\n",
              "       [-3.44288100e+00,  1.13003907e+00],\n",
              "       [-7.44514747e+00,  4.76178476e+00],\n",
              "       [-5.08792244e+00,  3.79999239e+00],\n",
              "       [-9.53875405e+00,  8.53989981e+00],\n",
              "       [-6.64435211e+00,  3.83181743e+00],\n",
              "       [-7.91394699e+00,  4.08713764e+00],\n",
              "       [-2.20037598e+00,  8.75749421e-01],\n",
              "       [-4.40230688e+00,  9.95854459e-01],\n",
              "       [-5.30502759e+00,  2.09387283e-01],\n",
              "       [-3.75271051e+00,  1.31160319e+00],\n",
              "       [-4.03845200e+00,  2.44065927e+00],\n",
              "       [-3.44425112e+00,  5.89266485e-01],\n",
              "       [-5.58091181e+00,  5.11965922e+00],\n",
              "       [-8.44040433e+00,  7.50091632e+00],\n",
              "       [-9.86965181e+00,  7.04833276e+00],\n",
              "       [-5.36691198e+00,  2.39294643e-02],\n",
              "       [-7.48862421e+00,  4.69513161e+00],\n",
              "       [-3.59366102e+00,  1.01279031e+00],\n",
              "       [-6.26397461e+00,  4.15652708e+00],\n",
              "       [-8.20074661e+00,  3.52642183e+00],\n",
              "       [-1.04424453e+01,  7.64095311e+00],\n",
              "       [-3.46840155e+00,  1.02541462e+00],\n",
              "       [-5.74447592e+00,  5.59388498e-01],\n",
              "       [-8.12238875e+00,  4.41944909e+00],\n",
              "       [-4.05114434e+00,  1.51805247e-01],\n",
              "       [-7.43445236e+00,  4.40511562e+00],\n",
              "       [-6.73899329e+00,  4.83299995e+00],\n",
              "       [-6.71451223e+00,  4.45115953e+00],\n",
              "       [-8.11243944e+00,  8.80356287e+00],\n",
              "       [-1.13294911e+01,  9.13218880e+00],\n",
              "       [-6.24924209e+00,  4.84739657e+00],\n",
              "       [-5.45595184e+00,  9.26312585e-01],\n",
              "       [-4.56540159e+00,  2.04531775e+00],\n",
              "       [-5.41084224e+00,  4.21365784e+00],\n",
              "       [-9.73903290e+00,  7.68424224e+00],\n",
              "       [-4.07071569e+00, -2.30120864e-01],\n",
              "       [-5.46250043e+00, -5.29116249e-01],\n",
              "       [-7.08228143e+00,  8.42045134e-01],\n",
              "       [-4.50915267e+00, -4.88679035e-01],\n",
              "       [-8.37146125e+00,  8.20371502e+00],\n",
              "       [-3.42422974e+00, -5.63954213e-01],\n",
              "       [-9.56317207e+00,  7.36019788e+00],\n",
              "       [-7.92341944e+00,  4.85101569e+00],\n",
              "       [-5.13947031e+00, -3.62651144e-01],\n",
              "       [-6.79398152e+00,  6.49028602e+00],\n",
              "       [-7.04223882e+00,  3.71247652e+00],\n",
              "       [-6.36068278e+00,  5.02371339e+00],\n",
              "       [-1.12672387e+01,  7.65977645e+00],\n",
              "       [-4.90701645e+00,  1.43822358e+00],\n",
              "       [-7.84301153e+00,  8.64322788e+00],\n",
              "       [-5.36627051e+00,  2.08841200e+00],\n",
              "       [-5.54336996e+00,  1.17528297e+00],\n",
              "       [-8.25613237e+00,  3.11134101e+00],\n",
              "       [-8.33802005e+00,  3.63740559e+00],\n",
              "       [-9.00843437e+00,  4.94755364e+00],\n",
              "       [-5.31335856e+00,  1.79606479e+00],\n",
              "       [-6.29001407e+00, -1.85273851e-02],\n",
              "       [-4.90097292e+00, -3.41343586e-01],\n",
              "       [-4.77755149e+00,  8.43227315e-03],\n",
              "       [-5.28598945e+00,  2.15583984e+00],\n",
              "       [-1.22670721e+01,  9.12844901e+00],\n",
              "       [-5.55211778e+00,  4.97488222e-01],\n",
              "       [-6.88132681e+00,  4.12304857e+00],\n",
              "       [-4.23777378e+00,  1.35746120e+00],\n",
              "       [-9.29307654e+00,  7.33939126e+00],\n",
              "       [-6.31121805e+00, -1.13535430e-01],\n",
              "       [-8.38426313e+00,  7.36194635e+00],\n",
              "       [-4.92720955e+00,  1.05846676e-02],\n",
              "       [-5.89458772e+00,  9.54591965e-02],\n",
              "       [-5.65875851e+00,  8.17951413e-01],\n",
              "       [-9.39261567e+00,  8.15757201e+00],\n",
              "       [-3.50440461e+00,  1.45433799e+00],\n",
              "       [-9.36343521e+00,  8.70399569e+00],\n",
              "       [-7.48855988e+00,  4.19769482e+00],\n",
              "       [-3.16386048e+00,  2.19645138e+00],\n",
              "       [-8.28238297e+00,  3.60654955e+00],\n",
              "       [-9.48587191e+00,  9.34777553e+00],\n",
              "       [-1.17664193e+01,  7.14721111e+00],\n",
              "       [-8.44572863e+00,  5.83020511e+00],\n",
              "       [-1.02316953e+01,  8.06075605e+00],\n",
              "       [-9.36949038e+00,  8.43070138e+00],\n",
              "       [-6.27598204e+00,  5.32832660e+00],\n",
              "       [-1.05971408e+01,  4.66426071e+00],\n",
              "       [-4.09465164e+00,  5.18271983e-01],\n",
              "       [-9.63378144e+00,  8.37130869e+00],\n",
              "       [-9.87852975e+00,  8.28255121e+00],\n",
              "       [-4.03931507e+00, -6.42995176e-01],\n",
              "       [-7.68105154e+00,  8.88921712e+00],\n",
              "       [-3.94378410e+00,  4.57566973e-01],\n",
              "       [-5.24506330e+00, -1.80515566e-02],\n",
              "       [-9.59056233e+00,  9.23732249e+00],\n",
              "       [-1.06544575e+01,  7.41255058e+00],\n",
              "       [-5.21032349e+00, -2.88926664e-01],\n",
              "       [-3.10909062e+00,  5.54122330e-01],\n",
              "       [-7.72372503e+00,  7.67281333e+00],\n",
              "       [-5.24334372e+00,  1.99794623e-01],\n",
              "       [-7.56895719e+00,  9.51049711e+00],\n",
              "       [-5.91580039e+00,  4.74957894e+00],\n",
              "       [-6.41487085e+00,  4.93984011e+00],\n",
              "       [-8.63354651e+00,  9.13329337e+00],\n",
              "       [-4.45385896e+00,  2.65186083e-01],\n",
              "       [-3.57971664e+00,  2.29921815e-01],\n",
              "       [-9.88023363e+00,  1.01313214e+01],\n",
              "       [-1.05911453e+01,  8.82192140e+00],\n",
              "       [-5.39390139e+00,  6.26287636e+00],\n",
              "       [-4.99138401e+00, -5.21163418e-01],\n",
              "       [-4.35358611e+00, -2.81885164e-01],\n",
              "       [-6.25066556e+00,  6.20894241e+00],\n",
              "       [-4.65518364e+00, -1.62457273e-01],\n",
              "       [-1.01294434e+01,  9.06100032e+00],\n",
              "       [-1.08684904e+01,  1.00386514e+01],\n",
              "       [-9.33657289e+00,  9.79973104e+00],\n",
              "       [-6.16360032e+00,  3.26627259e+00],\n",
              "       [-4.89298256e+00,  1.18949667e+00],\n",
              "       [-9.66336408e+00,  9.23820081e+00],\n",
              "       [-7.03166309e+00,  7.04281172e+00],\n",
              "       [-3.86868269e+00, -1.80617076e-01],\n",
              "       [-1.07203353e+01,  8.69470494e+00],\n",
              "       [-5.57438678e+00,  4.67884414e+00],\n",
              "       [-5.90422768e+00,  3.88712478e+00],\n",
              "       [-7.37813809e+00,  4.59963166e+00],\n",
              "       [-3.80043741e+00,  5.92104594e-01],\n",
              "       [-7.58104073e+00,  5.15232947e+00],\n",
              "       [-8.49429557e+00,  7.51261526e+00],\n",
              "       [-7.17064723e+00,  4.87424600e+00],\n",
              "       [-8.62074793e+00,  7.47662252e+00],\n",
              "       [-6.18083104e+00,  5.23531268e+00],\n",
              "       [-6.91775955e+00, -8.92480541e-01],\n",
              "       [-1.03509707e+01,  8.59524781e+00],\n",
              "       [-6.68425271e+00,  5.66860588e+00],\n",
              "       [-9.67661774e+00,  7.08538132e+00],\n",
              "       [-4.12660063e+00,  6.56184707e-01],\n",
              "       [-8.05502481e+00,  5.85863622e+00],\n",
              "       [-1.10279329e+01,  8.89822684e+00],\n",
              "       [-9.56315853e+00,  9.45913844e+00],\n",
              "       [-4.15773843e+00,  8.85164818e-01],\n",
              "       [-8.64678118e+00,  7.78773187e+00],\n",
              "       [-7.00019236e+00,  5.47880003e+00],\n",
              "       [-4.98352759e+00,  3.73889922e+00],\n",
              "       [-1.04231210e+01,  6.91391258e+00],\n",
              "       [-5.55089024e+00,  6.03303880e+00],\n",
              "       [-8.01941509e+00,  4.01871149e+00],\n",
              "       [-9.47053169e+00,  7.84928964e+00],\n",
              "       [-3.75818761e+00,  7.50327565e-02],\n",
              "       [-9.78581704e+00,  7.46311383e+00],\n",
              "       [-1.07720219e+01,  9.17429855e+00],\n",
              "       [-6.34499460e+00,  8.39776715e-01],\n",
              "       [-8.68722471e+00,  8.35583676e+00],\n",
              "       [-1.04817237e+01,  8.47696681e+00],\n",
              "       [-9.91945634e+00,  8.01841602e+00],\n",
              "       [-8.06495587e+00,  6.91533817e+00],\n",
              "       [-7.45322442e+00,  4.99891445e+00],\n",
              "       [-1.02765046e+01,  8.52614252e+00],\n",
              "       [-8.29433919e+00,  5.76674028e+00],\n",
              "       [-9.38537590e+00,  8.61690709e+00],\n",
              "       [-4.91721628e+00,  2.35716516e+00],\n",
              "       [-8.47599109e+00,  8.18733235e+00],\n",
              "       [-6.91161607e+00,  4.68076626e+00],\n",
              "       [-4.02553723e+00,  2.69704942e-01],\n",
              "       [-9.62553859e+00,  6.34615866e+00],\n",
              "       [-8.31882067e+00,  1.00168627e+01],\n",
              "       [-8.40101425e+00,  8.40783829e+00],\n",
              "       [-9.71111595e+00,  7.72498986e+00],\n",
              "       [-4.65017285e+00, -9.83637416e-01],\n",
              "       [-3.63890469e+00, -5.39408301e-01],\n",
              "       [-1.00641597e+01,  5.33612982e+00],\n",
              "       [-5.82078703e+00,  3.58582513e+00],\n",
              "       [-1.14416202e+01,  8.68526706e+00],\n",
              "       [-1.13126637e+01,  9.66673278e+00],\n",
              "       [-2.95471528e+00, -1.21529414e-01],\n",
              "       [-1.11202524e+01,  9.05785559e+00],\n",
              "       [-8.50655176e+00,  3.82146801e+00],\n",
              "       [-9.81054633e+00,  8.70987082e+00],\n",
              "       [-7.64937225e+00,  5.64373532e+00],\n",
              "       [-7.51456607e+00,  5.27345092e+00],\n",
              "       [-6.34989951e+00,  5.87833068e+00],\n",
              "       [-1.15213467e+01,  9.29144360e+00],\n",
              "       [-6.90080861e+00,  4.72095047e+00],\n",
              "       [-6.75695545e+00,  4.08473034e+00],\n",
              "       [-7.68027364e+00,  5.05019714e+00],\n",
              "       [-9.79914495e+00,  9.32154682e+00],\n",
              "       [-3.75676263e+00,  1.19239413e+00],\n",
              "       [-6.86559397e+00,  3.86501907e+00],\n",
              "       [-8.75585246e+00,  4.86477266e+00],\n",
              "       [-1.00379157e+01,  6.80489575e+00],\n",
              "       [-4.35722074e+00,  4.81450328e-01],\n",
              "       [-4.11414205e+00, -2.76014331e-02],\n",
              "       [-4.48452874e+00,  1.97924073e+00],\n",
              "       [-5.29907645e+00,  5.42982398e-01],\n",
              "       [-6.12595016e+00,  3.96658890e+00],\n",
              "       [-1.05476702e+01,  7.19055476e+00],\n",
              "       [-5.22252070e+00,  2.30691015e+00],\n",
              "       [-4.67836180e+00,  8.92668647e-01],\n",
              "       [-5.89014718e+00,  1.08533315e+00],\n",
              "       [-3.46384071e+00,  8.25307243e-01]])"
            ]
          },
          "metadata": {},
          "execution_count": 6
        }
      ]
    },
    {
      "cell_type": "code",
      "metadata": {
        "colab": {
          "base_uri": "https://localhost:8080/"
        },
        "id": "WnSmKRJ6qbqY",
        "outputId": "c925e3b0-c63d-48fc-c77f-b0c31ae2d09e"
      },
      "source": [
        "y"
      ],
      "execution_count": null,
      "outputs": [
        {
          "output_type": "execute_result",
          "data": {
            "text/plain": [
              "array([2, 0, 2, 2, 2, 1, 1, 0, 1, 0, 0, 1, 0, 0, 0, 1, 0, 1, 1, 0, 2, 0,\n",
              "       2, 2, 1, 1, 2, 2, 1, 2, 2, 1, 1, 0, 1, 0, 0, 1, 0, 2, 0, 2, 1, 2,\n",
              "       2, 0, 1, 1, 2, 0, 0, 0, 2, 1, 1, 1, 0, 1, 0, 2, 0, 2, 2, 2, 0, 0,\n",
              "       2, 0, 2, 2, 0, 1, 2, 0, 0, 1, 0, 1, 1, 2, 1, 2, 0, 0, 1, 2, 2, 2,\n",
              "       0, 2, 0, 2, 0, 1, 0, 2, 1, 2, 2, 0, 2, 0, 0, 1, 0, 1, 0, 0, 2, 0,\n",
              "       0, 1, 1, 1, 1, 1, 1, 0, 2, 2, 1, 0, 1, 0, 0, 2, 1, 1, 0, 1, 0, 0,\n",
              "       0, 2, 2, 0, 1, 1, 0, 2, 1, 1, 1, 1, 2, 1, 2, 0, 1, 0, 0, 0, 2, 1,\n",
              "       2, 1, 1, 0, 0, 0, 1, 1, 1, 1, 1, 2, 1, 0, 1, 2, 1, 2, 1, 1, 1, 2,\n",
              "       1, 2, 0, 1, 0, 2, 2, 0, 2, 2, 0, 2, 1, 2, 2, 1, 2, 1, 1, 2, 2, 1,\n",
              "       1, 0, 1, 2, 0, 0, 2, 1, 1, 2, 2, 0, 1, 1, 0, 1, 2, 2, 2, 0, 1, 2,\n",
              "       0, 1, 2, 0, 0, 0, 1, 0, 2, 0, 2, 0, 1, 2, 0, 2, 1, 0, 2, 2, 1, 2,\n",
              "       0, 0, 2, 0, 0, 2, 1, 2, 2, 1, 2, 2, 2, 0, 0, 2, 0, 2, 1, 2, 0, 1,\n",
              "       2, 2, 2, 2, 1, 1, 0, 0, 2, 2, 1, 2, 0, 2, 0, 0, 0, 2, 0, 0, 0, 2,\n",
              "       1, 0, 0, 2, 1, 1, 1, 1, 0, 2, 1, 1, 1, 1])"
            ]
          },
          "metadata": {},
          "execution_count": 7
        }
      ]
    },
    {
      "cell_type": "code",
      "metadata": {
        "colab": {
          "base_uri": "https://localhost:8080/",
          "height": 265
        },
        "id": "evNkhA8RqnfJ",
        "outputId": "3d92aa68-1dd9-44eb-c5e0-3e5f6e1f0d12"
      },
      "source": [
        "plt.scatter(X[:,0], X[:,1])\n",
        "plt.show()"
      ],
      "execution_count": null,
      "outputs": [
        {
          "output_type": "display_data",
          "data": {
            "image/png": "[encoded data removed]",
            "text/plain": [
              "<Figure size 432x288 with 1 Axes>"
            ]
          },
          "metadata": {
            "needs_background": "light"
          }
        }
      ]
    },
    {
      "cell_type": "code",
      "metadata": {
        "colab": {
          "base_uri": "https://localhost:8080/",
          "height": 295
        },
        "id": "I6g8bmQlq6dQ",
        "outputId": "c57a6e71-47f7-4d59-8c16-eeddf1fd39a2"
      },
      "source": [
        "wcss = []\n",
        "for i in range(1, 11):\n",
        "  kmeans = KMeans(n_clusters=i)\n",
        "  kmeans.fit(X)\n",
        "  wcss.append(kmeans.inertia_)\n",
        "plt.plot(range(1, 11), wcss)\n",
        "plt.title('Elbow Method')\n",
        "plt.xlabel('number of clusters')\n",
        "plt.ylabel('wcss')\n",
        "plt.show()\n"
      ],
      "execution_count": null,
      "outputs": [
        {
          "output_type": "display_data",
          "data": {
            "image/png": "[encoded data removed]",
            "text/plain": [
              "<Figure size 432x288 with 1 Axes>"
            ]
          },
          "metadata": {
            "needs_background": "light"
          }
        }
      ]
    },
    {
      "cell_type": "code",
      "metadata": {
        "colab": {
          "base_uri": "https://localhost:8080/",
          "height": 265
        },
        "id": "kGKMTdQAruaB",
        "outputId": "688f3c18-906b-4b57-a656-c6d1d3c8f533"
      },
      "source": [
        "kmeans = KMeans(n_clusters=3)\n",
        "pred_y = kmeans.fit_predict(X)\n",
        "plt.scatter(X[:,0], X[:,1], cmap='viridis')\n",
        "plt.scatter(kmeans.cluster_centers_[:,0], kmeans.cluster_centers_[:,1], s=300, c='red')\n",
        "plt.show()"
      ],
      "execution_count": null,
      "outputs": [
        {
          "output_type": "display_data",
          "data": {
            "image/png": "[encoded data removed]",
            "text/plain": [
              "<Figure size 432x288 with 1 Axes>"
            ]
          },
          "metadata": {
            "needs_background": "light"
          }
        }
      ]
    }
  ]
}